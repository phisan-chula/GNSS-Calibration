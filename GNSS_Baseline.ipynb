{
  "nbformat": 4,
  "nbformat_minor": 0,
  "metadata": {
    "colab": {
      "provenance": [],
      "authorship_tag": "ABX9TyOq7GleHKR1RTcxZSJ5eYlL",
      "include_colab_link": true
    },
    "kernelspec": {
      "name": "python3",
      "display_name": "Python 3"
    },
    "language_info": {
      "name": "python"
    }
  },
  "cells": [
    {
      "cell_type": "markdown",
      "metadata": {
        "id": "view-in-github",
        "colab_type": "text"
      },
      "source": [
        "<a href=\"https://colab.research.google.com/github/phisan-chula/GNSS-Calibration/blob/main/GNSS_Baseline.ipynb\" target=\"_parent\"><img src=\"https://colab.research.google.com/assets/colab-badge.svg\" alt=\"Open In Colab\"/></a>"
      ]
    },
    {
      "cell_type": "code",
      "source": [
        "!pip install pymap3d\n",
        "!pip install pygeodesy\n",
        "!pip install ipdb\n",
        "!apt-get -y install geographiclib-tools"
      ],
      "metadata": {
        "colab": {
          "base_uri": "https://localhost:8080/"
        },
        "id": "3GUvok_io2Mp",
        "outputId": "7a622a4b-251f-42f2-bc82-09fa9660a4d4"
      },
      "execution_count": 8,
      "outputs": [
        {
          "output_type": "stream",
          "name": "stdout",
          "text": [
            "Requirement already satisfied: pymap3d in /usr/local/lib/python3.10/dist-packages (3.1.0)\n",
            "Requirement already satisfied: pygeodesy in /usr/local/lib/python3.10/dist-packages (24.5.2)\n",
            "Requirement already satisfied: ipdb in /usr/local/lib/python3.10/dist-packages (0.13.13)\n",
            "Requirement already satisfied: ipython>=7.31.1 in /usr/local/lib/python3.10/dist-packages (from ipdb) (7.34.0)\n",
            "Requirement already satisfied: tomli in /usr/local/lib/python3.10/dist-packages (from ipdb) (2.0.1)\n",
            "Requirement already satisfied: decorator in /usr/local/lib/python3.10/dist-packages (from ipdb) (4.4.2)\n",
            "Requirement already satisfied: setuptools>=18.5 in /usr/local/lib/python3.10/dist-packages (from ipython>=7.31.1->ipdb) (67.7.2)\n",
            "Requirement already satisfied: jedi>=0.16 in /usr/local/lib/python3.10/dist-packages (from ipython>=7.31.1->ipdb) (0.19.1)\n",
            "Requirement already satisfied: pickleshare in /usr/local/lib/python3.10/dist-packages (from ipython>=7.31.1->ipdb) (0.7.5)\n",
            "Requirement already satisfied: traitlets>=4.2 in /usr/local/lib/python3.10/dist-packages (from ipython>=7.31.1->ipdb) (5.7.1)\n",
            "Requirement already satisfied: prompt-toolkit!=3.0.0,!=3.0.1,<3.1.0,>=2.0.0 in /usr/local/lib/python3.10/dist-packages (from ipython>=7.31.1->ipdb) (3.0.43)\n",
            "Requirement already satisfied: pygments in /usr/local/lib/python3.10/dist-packages (from ipython>=7.31.1->ipdb) (2.16.1)\n",
            "Requirement already satisfied: backcall in /usr/local/lib/python3.10/dist-packages (from ipython>=7.31.1->ipdb) (0.2.0)\n",
            "Requirement already satisfied: matplotlib-inline in /usr/local/lib/python3.10/dist-packages (from ipython>=7.31.1->ipdb) (0.1.7)\n",
            "Requirement already satisfied: pexpect>4.3 in /usr/local/lib/python3.10/dist-packages (from ipython>=7.31.1->ipdb) (4.9.0)\n",
            "Requirement already satisfied: parso<0.9.0,>=0.8.3 in /usr/local/lib/python3.10/dist-packages (from jedi>=0.16->ipython>=7.31.1->ipdb) (0.8.4)\n",
            "Requirement already satisfied: ptyprocess>=0.5 in /usr/local/lib/python3.10/dist-packages (from pexpect>4.3->ipython>=7.31.1->ipdb) (0.7.0)\n",
            "Requirement already satisfied: wcwidth in /usr/local/lib/python3.10/dist-packages (from prompt-toolkit!=3.0.0,!=3.0.1,<3.1.0,>=2.0.0->ipython>=7.31.1->ipdb) (0.2.13)\n",
            "Reading package lists... Done\n",
            "Building dependency tree... Done\n",
            "Reading state information... Done\n",
            "geographiclib-tools is already the newest version (1.52-1).\n",
            "0 upgraded, 0 newly installed, 0 to remove and 45 not upgraded.\n"
          ]
        }
      ]
    },
    {
      "cell_type": "code",
      "execution_count": 9,
      "metadata": {
        "colab": {
          "base_uri": "https://localhost:8080/"
        },
        "id": "2ZNPTLKXoTl4",
        "outputId": "ef1d1c40-a9ad-415c-ce67-d1bda05885b0"
      },
      "outputs": [
        {
          "output_type": "stream",
          "name": "stdout",
          "text": [
            "=================== baseline length = 2 km  ==================\n",
            "Optimization terminated successfully.\n",
            "         Current function value: 0.000000\n",
            "         Iterations: 96\n",
            "         Function evaluations: 188\n",
            "[ 13.73721713 100.48692421]\n",
            "GeodSolve -i --input-string \"13.737217129882556 100.48692421417981 13.75 100.5\"\n",
            "=================== baseline length = 5 km  ==================\n",
            "Optimization terminated successfully.\n",
            "         Current function value: 0.000000\n",
            "         Iterations: 98\n",
            "         Function evaluations: 189\n",
            "[ 13.71804149 100.46731318]\n",
            "GeodSolve -i --input-string \"13.718041487299018 100.46731317793103 13.75 100.5\"\n",
            "=================== baseline length = 10 km  ==================\n",
            "Optimization terminated successfully.\n",
            "         Current function value: 0.000000\n",
            "         Iterations: 99\n",
            "         Function evaluations: 191\n",
            "[ 13.68607856 100.43463519]\n",
            "GeodSolve -i --input-string \"13.68607856112328 100.43463519122776 13.75 100.5\"\n",
            "=================== baseline length = 20 km  ==================\n",
            "Optimization terminated successfully.\n",
            "         Current function value: 0.000000\n",
            "         Iterations: 92\n",
            "         Function evaluations: 183\n",
            "[ 13.62213951 100.36930563]\n",
            "GeodSolve -i --input-string \"13.622139509087226 100.36930562706462 13.75 100.5\"\n",
            "=================== baseline length = 50 km  ==================\n",
            "Optimization terminated successfully.\n",
            "         Current function value: 0.000000\n",
            "         Iterations: 95\n",
            "         Function evaluations: 188\n",
            "[ 13.43021723 100.17352621]\n",
            "GeodSolve -i --input-string \"13.430217230673703 100.17352620734948 13.75 100.5\"\n",
            "========================== summary ============================\n",
            "Reference : Geod(ellps='WGS84')\n",
            "Target to P2:  phi lam  faz\n",
            "13.750000000 100.500000000, 45.000000000 \n",
            "13°45′00.0″  100°30′00.0″ 45°00′00.0″\n",
            "Elevation P1/P2 hae : -32.000 / -30.000 meter\n",
            "|    |   baseline |       s12 |       P1_lat |        P1_lng |   P1_hae |       P2_lat |        P2_lng |   P2_hae |       faz1 |       faz2 |\n",
            "|---:|-----------:|----------:|-------------:|--------------:|---------:|-------------:|--------------:|---------:|-----------:|-----------:|\n",
            "|  0 |   2000.000 |  2000.009 | 13.737217130 | 100.486924214 |  -32.000 | 13.750000000 | 100.500000000 |  -30.000 | 44.9968935 | 45.0000000 |\n",
            "|  1 |   5000.000 |  5000.024 | 13.718041487 | 100.467313178 |  -32.000 | 13.750000000 | 100.500000000 |  -30.000 | 44.9922397 | 45.0000000 |\n",
            "|  2 |  10000.000 | 10000.050 | 13.686078561 | 100.434635191 |  -32.000 | 13.750000000 | 100.500000000 |  -30.000 | 44.9844991 | 45.0000000 |\n",
            "|  3 |  20000.000 | 20000.106 | 13.622139509 | 100.369305627 |  -32.000 | 13.750000000 | 100.500000000 |  -30.000 | 44.9690774 | 45.0000000 |\n",
            "|  4 |  50000.000 | 50000.373 | 13.430217231 | 100.173526207 |  -32.000 | 13.750000000 | 100.500000000 |  -30.000 | 44.9232865 | 45.0000000 |\n",
            "\n",
            "|    |   baseline |       s12 | P1_lat          | P1_lng           |   P1_hae | P2_lat      | P2_lng       |   P2_hae | faz1         | faz2        |\n",
            "|---:|-----------:|----------:|:----------------|:-----------------|---------:|:------------|:-------------|---------:|:-------------|:------------|\n",
            "|  0 |   2000.000 |  2000.009 | 13°44′13.98167″ | 100°29′12.92717″ |  -32.000 | 13°45′00.0″ | 100°30′00.0″ |  -30.000 | 44°59′48.82″ | 45°00′00.0″ |\n",
            "|  1 |   5000.000 |  5000.024 | 13°43′04.94935″ | 100°28′02.32744″ |  -32.000 | 13°45′00.0″ | 100°30′00.0″ |  -30.000 | 44°59′32.06″ | 45°00′00.0″ |\n",
            "|  2 |  10000.000 | 10000.050 | 13°41′09.88282″ | 100°26′04.68669″ |  -32.000 | 13°45′00.0″ | 100°30′00.0″ |  -30.000 | 44°59′04.2″  | 45°00′00.0″ |\n",
            "|  3 |  20000.000 | 20000.106 | 13°37′19.70223″ | 100°22′09.50026″ |  -32.000 | 13°45′00.0″ | 100°30′00.0″ |  -30.000 | 44°58′08.68″ | 45°00′00.0″ |\n",
            "|  4 |  50000.000 | 50000.373 | 13°25′48.78203″ | 100°10′24.69435″ |  -32.000 | 13°45′00.0″ | 100°30′00.0″ |  -30.000 | 44°55′23.83″ | 45°00′00.0″ |\n"
          ]
        }
      ],
      "source": [
        "'''\n",
        "GenRefBL.py : generates reference geodetic baselines\n",
        "between two points (P1 and P2) with a specified length (k kilometers)\n",
        "and forward azimuth (az21).\n",
        "\n",
        "This straight-line baseline is an approximation of the true geodesic line,\n",
        "which is the shortest path between two points on an ellipsoid\n",
        "The script acknowledges that the generated straight-line baseline\n",
        "(chord) will have a small difference compared to the true geodesic line\n",
        "(s12) projected onto the ellipsoid surface.\n",
        "'''\n",
        "\n",
        "import os\n",
        "import pymap3d as pm\n",
        "import numpy as np\n",
        "import pandas as pd\n",
        "from scipy.optimize import fmin,minimize\n",
        "from pyproj import Geod\n",
        "from pygeodesy import dms\n",
        "\n",
        "class BaseLine:\n",
        "    def __init__(self):\n",
        "        self.g = Geod(ellps='WGS84')\n",
        "        self.TABLE  = list()\n",
        "        self.TABLE_ = list()\n",
        "        if 1:  # WatSutat\n",
        "            self.lat2, self.lon2 = [ 13.75, 100.50  ]  # fixed !\n",
        "            self.az2 = 45.000\n",
        "            self.BL_hae = [ -32 , -30]  # meter\n",
        "        else:  # Intanon\n",
        "            self.lat2, self.lon2 = [ 18.60, 98.50  ]  # fixed !\n",
        "            self.az2 = -135.000   #-180 < az <+180\n",
        "            self.BL_hae = [ 260 , 2526]  # meter  !!! DeltaH >> S12\n",
        "        assert -90  <=self.lat2 <=+90\n",
        "        assert -180 <=self.lon2 <=+180\n",
        "        assert -180 <=self.az2  <=+180\n",
        "\n",
        "    def PJ4_Inverse( self, lat1, lon1, lat2, lon2 ):\n",
        "        ''' return forward azimuth at starting and terminus, -180 < az <+180 '''\n",
        "        fwd_az1, bwd_az2, s12  = self.g.inv(lon1, lat1, lon2, lat2, radians=False )\n",
        "        return fwd_az1,AzTrunc180(bwd_az2+180),s12\n",
        "\n",
        "    def PJ4_Direct( self, lat1, lon1, az1, s12 ):\n",
        "        ''' return lon2,lat2 of the terminus, also fwd_az2 at the terminus'''\n",
        "        ''' PJ4_fwd() gives back azimuths of terminus!!!, reverse to forward'''\n",
        "        lon2,lat2,bwd_az2  = self.g.fwd(lon1, lat1, az1, s12, radians=False )\n",
        "        return lat2,lon2,AzTrunc180( bwd_az2+180 )\n",
        "\n",
        "    def PrintBaseLine(self):\n",
        "        print( f'Reference : {self.g}' )\n",
        "        print( f'Target to P2:  phi lam  faz' )\n",
        "        print( f'{self.lat2:.9f} {self.lon2:.9f}, {self.az2:.9f} ' )\n",
        "        print( f'{dms.toDMS(self.lat2,prec=5)}  {dms.toDMS(self.lon2,prec=5)} '\\\n",
        "               f'{dms.toDMS(self.az2,prec=5)}' )\n",
        "        print( f'Elevation P1/P2 hae : {self.BL_hae[0]:.3f} / {self.BL_hae[1]:.3f} meter' )\n",
        "        COLS = [ 'baseline','s12',\n",
        "                 'P1_lat','P1_lng','P1_hae','P2_lat','P2_lng','P2_hae', 'faz1', 'faz2' ]\n",
        "        self.dfTABLE = pd.DataFrame( self.TABLE, columns=COLS )\n",
        "        self.dfTABLE_ = pd.DataFrame( self.TABLE_, columns=COLS )\n",
        "        #import pdb; pdb.set_trace()\n",
        "        FMT = (None, '.3f','.3f','.9f','.9f','.3f','.9f','.9f','.3f', '.7f', '.7f')\n",
        "        print( self.dfTABLE.to_markdown( floatfmt=FMT ) )\n",
        "        print()\n",
        "        FMT_ = (None, '.3f','.3f',None,None,'.3f',None,None,'.3f',None,None)\n",
        "        print( self.dfTABLE_.to_markdown( floatfmt=FMT_  ) )\n",
        "        self.dfTABLE_.to_pickle( \"./TableBaseline.pkl\" )\n",
        "\n",
        "    def TableBL(self, lat1, lon1 ):\n",
        "        az1, az2, s12 = self.PJ4_Inverse( lat1,lon1, self.lat2, self.lon2 )\n",
        "        XYZ1 = pm.geodetic2ecef( lat1,      lon1,      self.BL_hae[0], deg=True)\n",
        "        XYZ2 = pm.geodetic2ecef( self.lat2, self.lon2, self.BL_hae[1], deg=True)\n",
        "        bl = np.linalg.norm( np.array(XYZ2)-np.array(XYZ1) )\n",
        "        self.TABLE.append( [ f'{bl:.3f}' , f'{s12:.3f}',\n",
        "                 f'{lat1:.9f}',     f'{lon1:.9f}',     f'{self.BL_hae[0]:.3f}',\n",
        "                 f'{self.lat2:.9f}',f'{self.lon2:.9f}',f'{self.BL_hae[1]:.3f}',\n",
        "                 f'{az1:.9f}',f'{az2:.9f}'   ] )\n",
        "        self.TABLE_.append( [ f'{bl:.3f}' , f'{s12:.3f}',\n",
        "          f'{dms.toDMS(lat1,prec=5)}', f'{dms.toDMS(lon1,prec=5)}', f'{self.BL_hae[0]:.3f}',\n",
        "          f'{dms.toDMS(self.lat2,prec=5)}',f'{dms.toDMS(self.lon2,prec=5)}',f'{self.BL_hae[1]:.3f}',\n",
        "          f'{dms.toDMS(az1,prec=2)}',f'{dms.toDMS(az2,prec=2)}'   ] )\n",
        "\n",
        "    def Solve_Baseline(self, BL ):\n",
        "        \"\"\" solve for baseline of length 'BL' , give terminus point lat2,lon2\n",
        "            and its forward azimuth 'fwd_az2. Height above ellipsoid 'hae' of\n",
        "            both ends are constrainted.\n",
        "            returns:\n",
        "                lat1,lon1 of the starting\n",
        "        \"\"\"\n",
        "        def ObjFunc(X0, lat2, lon2, fwd_az2, BL, hae, g ):\n",
        "            #print( X0, lat2, lon2, fwd_az2, BL, hae, g )\n",
        "            lat1,lon1 = X0\n",
        "            fwd_az1_,fwd_az2_,s12_  = self.PJ4_Inverse(lat1,lon1,lat2,lon2 )\n",
        "            XYZ1 = pm.geodetic2ecef( lat1, lon1, hae[0] , deg=True)\n",
        "            XYZ2 = pm.geodetic2ecef( lat2, lon2, hae[1] , deg=True)\n",
        "            bl_ = np.linalg.norm( np.array(XYZ2)-np.array(XYZ1) )\n",
        "            #import pdb; pdb.set_trace()\n",
        "            diff_az2 = AzTrunc180( fwd_az2_-fwd_az2 )\n",
        "            L2norm = np.linalg.norm( np.array([bl_-BL ,diff_az2] ) )\n",
        "            return L2norm\n",
        "        lat1_,lon1_,_ = self.PJ4_Direct(self.lat2, self.lon2, AzTrunc180(180+self.az2), BL)\n",
        "        res = fmin( ObjFunc, np.array([lat1_,lon1_]) ,\n",
        "                    args=( self.lat2, self.lon2, self.az2, BL, self.BL_hae, self.g ),\n",
        "                    xtol=1E-4, ftol=1E-9, maxiter=1000, disp=True )\n",
        "        print( res )\n",
        "        CHK = '''GeodSolve -i --input-string \"{} {} {} {}\"'''.format(\n",
        "                                res[0], res[1], self.lat2, self.lon2 )\n",
        "        print( CHK )\n",
        "        os.system( CHK )\n",
        "        return res # lat1, lon1\n",
        "\n",
        "def AzTrunc180( az ):\n",
        "    ''' truncating azimuth [-180...+180] degree '''\n",
        "    _, az360 = divmod(az, 360) # round-off to one-circle\n",
        "    div,mod = divmod( az360, 180 )\n",
        "    if div>=1: return mod-180\n",
        "    else: return mod\n",
        "\n",
        "##################################################\n",
        "ref = BaseLine()\n",
        "for bl in [ 2, 5,10,20,50]:\n",
        "    print(f'=================== baseline length = {bl:} km  ==================')\n",
        "    lat1,lon1 = ref.Solve_Baseline( bl*1_000 )  # a bit neater ....\n",
        "    ref.TableBL( lat1, lon1 )\n",
        "\n",
        "print('========================== summary ============================')\n",
        "ref.PrintBaseLine()\n",
        "#import pdb; pdb.set_trace()\n"
      ]
    },
    {
      "cell_type": "code",
      "source": [
        "! GeodSolve -i --input-string \"13.430217230673703 100.17352620734948 13.75 100.5\""
      ],
      "metadata": {
        "id": "gcNFKkMpLRxt",
        "outputId": "f71416e8-5798-4bc9-f5f0-f6ac2d292c5b",
        "colab": {
          "base_uri": "https://localhost:8080/"
        }
      },
      "execution_count": 10,
      "outputs": [
        {
          "output_type": "stream",
          "name": "stdout",
          "text": [
            "44.92328655 45.00000000 50000.373\n"
          ]
        }
      ]
    }
  ]
}