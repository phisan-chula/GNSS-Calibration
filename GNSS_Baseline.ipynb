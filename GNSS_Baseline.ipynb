{
  "nbformat": 4,
  "nbformat_minor": 0,
  "metadata": {
    "colab": {
      "provenance": [],
      "authorship_tag": "ABX9TyPfuGkt7oHxO281Lqk1WSrN",
      "include_colab_link": true
    },
    "kernelspec": {
      "name": "python3",
      "display_name": "Python 3"
    },
    "language_info": {
      "name": "python"
    }
  },
  "cells": [
    {
      "cell_type": "markdown",
      "metadata": {
        "id": "view-in-github",
        "colab_type": "text"
      },
      "source": [
        "<a href=\"https://colab.research.google.com/github/phisan-chula/GNSS-Calibration/blob/main/GNSS_Baseline.ipynb\" target=\"_parent\"><img src=\"https://colab.research.google.com/assets/colab-badge.svg\" alt=\"Open In Colab\"/></a>"
      ]
    },
    {
      "cell_type": "code",
      "source": [
        "!pip install pymap3d\n",
        "!pip install pygeodesy\n",
        "!pip install ipdb"
      ],
      "metadata": {
        "colab": {
          "base_uri": "https://localhost:8080/"
        },
        "id": "3GUvok_io2Mp",
        "outputId": "eee6f17c-9035-48e2-abe8-a6c0180d336d"
      },
      "execution_count": 1,
      "outputs": [
        {
          "output_type": "stream",
          "name": "stdout",
          "text": [
            "qRequirement already satisfied: pymap3d in /usr/local/lib/python3.10/dist-packages (3.1.0)\n",
            "Requirement already satisfied: pygeodesy in /usr/local/lib/python3.10/dist-packages (24.5.2)\n",
            "Requirement already satisfied: ipdb in /usr/local/lib/python3.10/dist-packages (0.13.13)\n",
            "Requirement already satisfied: ipython>=7.31.1 in /usr/local/lib/python3.10/dist-packages (from ipdb) (7.34.0)\n",
            "Requirement already satisfied: tomli in /usr/local/lib/python3.10/dist-packages (from ipdb) (2.0.1)\n",
            "Requirement already satisfied: decorator in /usr/local/lib/python3.10/dist-packages (from ipdb) (4.4.2)\n",
            "Requirement already satisfied: setuptools>=18.5 in /usr/local/lib/python3.10/dist-packages (from ipython>=7.31.1->ipdb) (67.7.2)\n",
            "Requirement already satisfied: jedi>=0.16 in /usr/local/lib/python3.10/dist-packages (from ipython>=7.31.1->ipdb) (0.19.1)\n",
            "Requirement already satisfied: pickleshare in /usr/local/lib/python3.10/dist-packages (from ipython>=7.31.1->ipdb) (0.7.5)\n",
            "Requirement already satisfied: traitlets>=4.2 in /usr/local/lib/python3.10/dist-packages (from ipython>=7.31.1->ipdb) (5.7.1)\n",
            "Requirement already satisfied: prompt-toolkit!=3.0.0,!=3.0.1,<3.1.0,>=2.0.0 in /usr/local/lib/python3.10/dist-packages (from ipython>=7.31.1->ipdb) (3.0.43)\n",
            "Requirement already satisfied: pygments in /usr/local/lib/python3.10/dist-packages (from ipython>=7.31.1->ipdb) (2.16.1)\n",
            "Requirement already satisfied: backcall in /usr/local/lib/python3.10/dist-packages (from ipython>=7.31.1->ipdb) (0.2.0)\n",
            "Requirement already satisfied: matplotlib-inline in /usr/local/lib/python3.10/dist-packages (from ipython>=7.31.1->ipdb) (0.1.7)\n",
            "Requirement already satisfied: pexpect>4.3 in /usr/local/lib/python3.10/dist-packages (from ipython>=7.31.1->ipdb) (4.9.0)\n",
            "Requirement already satisfied: parso<0.9.0,>=0.8.3 in /usr/local/lib/python3.10/dist-packages (from jedi>=0.16->ipython>=7.31.1->ipdb) (0.8.4)\n",
            "Requirement already satisfied: ptyprocess>=0.5 in /usr/local/lib/python3.10/dist-packages (from pexpect>4.3->ipython>=7.31.1->ipdb) (0.7.0)\n",
            "Requirement already satisfied: wcwidth in /usr/local/lib/python3.10/dist-packages (from prompt-toolkit!=3.0.0,!=3.0.1,<3.1.0,>=2.0.0->ipython>=7.31.1->ipdb) (0.2.13)\n"
          ]
        }
      ]
    },
    {
      "cell_type": "code",
      "execution_count": 8,
      "metadata": {
        "colab": {
          "base_uri": "https://localhost:8080/"
        },
        "id": "2ZNPTLKXoTl4",
        "outputId": "8cd038bb-b375-4a7c-b162-f9431f03cf7e"
      },
      "outputs": [
        {
          "output_type": "stream",
          "name": "stdout",
          "text": [
            "=================== baseline length = 2 km  ==================\n",
            "Optimization terminated successfully.\n",
            "         Current function value: 0.000000\n",
            "         Iterations: 100\n",
            "         Function evaluations: 196\n",
            "[ 13.73721782 100.48692351]\n",
            "GeodSolve -i --input-string \"13.737217822955383 100.48692350516818 13.75 100.5\"\n",
            "=================== baseline length = 5 km  ==================\n",
            "Optimization terminated successfully.\n",
            "         Current function value: 0.000000\n",
            "         Iterations: 96\n",
            "         Function evaluations: 185\n",
            "[ 13.71804582 100.46730875]\n",
            "GeodSolve -i --input-string \"13.718045815877197 100.46730874981411 13.75 100.5\"\n",
            "=================== baseline length = 10 km  ==================\n",
            "Optimization terminated successfully.\n",
            "         Current function value: 0.000000\n",
            "         Iterations: 94\n",
            "         Function evaluations: 183\n",
            "[ 13.68609585 100.4346175 ]\n",
            "GeodSolve -i --input-string \"13.686095854569697 100.43461750015211 13.75 100.5\"\n",
            "=================== baseline length = 20 km  ==================\n",
            "Optimization terminated successfully.\n",
            "         Current function value: 0.000000\n",
            "         Iterations: 98\n",
            "         Function evaluations: 191\n",
            "[ 13.62220852 100.36923503]\n",
            "GeodSolve -i --input-string \"13.622208515884974 100.36923503396079 13.75 100.5\"\n",
            "=================== baseline length = 50 km  ==================\n",
            "Optimization terminated successfully.\n",
            "         Current function value: 0.000000\n",
            "         Iterations: 92\n",
            "         Function evaluations: 181\n",
            "[ 13.4306454  100.17308821]\n",
            "GeodSolve -i --input-string \"13.430645395791418 100.17308820676404 13.75 100.5\"\n",
            "============ summary ==============\n",
            "Reference : Geod(ellps='WGS84')\n",
            "Target P2 at : 13.750000000 100.500000000\n",
            "               13°45′00.0″  100°30′00.0″ \n",
            "Elevation P1/P2 hae : -30.000 / -32.000 meter\n",
            "|    |       P1_lat | P1_lat_         |        P1_lng | P1_lng_          |      az12 | az12_     |       s12 |   baseline |\n",
            "|---:|-------------:|:----------------|--------------:|:-----------------|----------:|:----------|----------:|-----------:|\n",
            "|  0 | 13.737217823 | 13°44′13.98416″ | 100.486923505 | 100°29′12.92462″ | 45.000000 | 45°00′00″ |  2000.009 |   2000.000 |\n",
            "|  1 | 13.718045816 | 13°43′04.96494″ | 100.467308750 | 100°28′02.3115″  | 45.000000 | 45°00′00″ |  5000.024 |   5000.000 |\n",
            "|  2 | 13.686095855 | 13°41′09.94508″ | 100.434617500 | 100°26′04.623″   | 45.000000 | 45°00′00″ | 10000.050 |  10000.000 |\n",
            "|  3 | 13.622208516 | 13°37′19.95066″ | 100.369235034 | 100°22′09.24612″ | 45.000000 | 45°00′00″ | 20000.106 |  20000.000 |\n",
            "|  4 | 13.430645396 | 13°25′50.32342″ | 100.173088207 | 100°10′23.11754″ | 45.000000 | 45°00′00″ | 50000.373 |  50000.000 |\n"
          ]
        }
      ],
      "source": [
        "#\n",
        "#\n",
        "#\n",
        "import os\n",
        "import pymap3d as pm\n",
        "import numpy as np\n",
        "import pandas as pd\n",
        "from scipy.optimize import fmin,minimize\n",
        "from pyproj import Geod\n",
        "from pygeodesy import dms\n",
        "\n",
        "'''\n",
        "WatSutat\n",
        "  GeoidEval -n tgm2017-1 --msltohae --input-string \"13.75 100.5 1.5\"\n",
        "  13.75 100.5 -29.0718\n",
        "DoiIntanon\n",
        "  GeoidEval -n tgm2017-1 --msltohae --input-string \"18.60 98.50 2565\"\n",
        "  18.60 98.50 2526.7938\n",
        "  GeoidEval -n tgm2017-1 --msltohae --input-string \"18.60 98.50 300\"\n",
        "  18.60 98.50 261.7938\n",
        "'''\n",
        "class BaseLine:\n",
        "    def __init__(self):\n",
        "        self.g = Geod(ellps='WGS84')\n",
        "        self.TABLE = list()\n",
        "        if 1:  # WatSutat\n",
        "            self.lat2, self.lon2 = [ 13.75, 100.50  ]  # fixed !\n",
        "            self.Az12 = 45.000\n",
        "            self.BL_hae = [-30,-32]  # meter\n",
        "        else:  # Intanon\n",
        "            self.lat2, self.lon2 = [ 18.60, 98.50  ]  # fixed !\n",
        "            self.Az12 = 225.000\n",
        "            self.BL_hae = [ 260 , 2526]  # meter\n",
        "\n",
        "    def PrintBase(self):\n",
        "        print( f'Reference : {self.g}' )\n",
        "        print( f'Target P2 at : {self.lat2:.9f} {self.lon2:.9f}' )\n",
        "        print( f'               {dms.toDMS(self.lat2,prec=5)}  {dms.toDMS(self.lon2,prec=5)} ' )\n",
        "        print( f'Elevation P1/P2 hae : {self.BL_hae[0]:.3f} / {self.BL_hae[1]:.3f} meter' )\n",
        "\n",
        "    def TableBL(self, lat1, lon1 ):\n",
        "        az12,az21,s12  = self.g.inv(lon1, lat1, self.lon2, self.lat2, radians=False )\n",
        "        az12 = divmod( az12,360 )[1]  # pyproj.Geod.fwd  return +/-180 !\n",
        "        XYZ1 = pm.geodetic2ecef( lat1,      lon1,      self.BL_hae[0], deg=True)\n",
        "        XYZ2 = pm.geodetic2ecef( self.lat2, self.lon2, self.BL_hae[1], deg=True)\n",
        "        bl = np.linalg.norm( np.array(XYZ2)-np.array(XYZ1) )\n",
        "        self.TABLE.append( [  f'{lat1:.9f}' , dms.toDMS( lat1, prec=5),\n",
        "                              f'{lon1:.9f}' , dms.toDMS( lon1, prec=5),\n",
        "                              f'{az12:.4f}' , dms.toDMS( az12, prec=0),\n",
        "                              f'{s12:.3f}', f'{bl:.3f}' ] )\n",
        "\n",
        "    def Solve_Baseline(self, BL ):\n",
        "        def ObjFunc(X0, lat2, lon2, az12, bl,bl_hae, g ):\n",
        "            #import pdb; pdb.set_trace()\n",
        "            lat1,lon1 = X0\n",
        "            az12_,_,s12_  = g.inv(lon1, lat1, lon2, lat2, radians=False )\n",
        "            #import ipdb ; ipdb.set_trace()\n",
        "            az12_ = divmod( az12_,360 )[1]  # pyproj.Geod.fwd  return +/-180 !\n",
        "            lon2_,lat2_,_ = g.fwd(lon1, lat1, az12_, s12_, radians=False)\n",
        "            #print( lon1, lat1, lon2, lat2 )\n",
        "            XYZ1 = pm.geodetic2ecef( lat1, lon1, bl_hae[0] , deg=True)\n",
        "            XYZ2 = pm.geodetic2ecef( lat2, lon2, bl_hae[1] , deg=True)\n",
        "            bl_ = np.linalg.norm( np.array(XYZ2)-np.array(XYZ1) )\n",
        "            #print( f'>>>>>>>> {bl_:}' )\n",
        "            L2norm =  np.linalg.norm(\n",
        "                          np.array( [lat2_-lat2, lon2_-lon2, bl_-bl, az12_-az12 ] ) )\n",
        "            return L2norm\n",
        "        az21 = divmod(self.Az12+180,360)[1]  # reverse az\n",
        "        lon1_,lat1_,_ = self.g.fwd(self.lon2, self.lat2, az21, BL, radians=False)\n",
        "        res = fmin( ObjFunc, np.array([lat1_,lon1_]) ,\n",
        "                    args=( self.lat2, self.lon2, self.Az12, BL, self.BL_hae, self.g ),\n",
        "                    xtol=1E-4, ftol=1E-9, maxiter=1000, disp=True )\n",
        "        print( res )\n",
        "        CHK = '''GeodSolve -i --input-string \"{} {} {} {}\"'''.format(\n",
        "                                res[0], res[1], self.lat2, self.lon2 )\n",
        "        print( CHK )\n",
        "        os.system( CHK )\n",
        "        return res # lat1, lon1\n",
        "\n",
        "##################################################\n",
        "ref = BaseLine()\n",
        "for bl in [ 2, 5,10,20,50]:\n",
        "    print(f'=================== baseline length = {bl:} km  ==================')\n",
        "    lat1,lon1 = ref.Solve_Baseline( bl*1_000 )  # a bit neater ....\n",
        "    ref.TableBL( lat1, lon1 )\n",
        "\n",
        "tab = pd.DataFrame( ref.TABLE, columns=[\n",
        "       'P1_lat','P1_lat_','P1_lng','P1_lng_','az12', 'az12_','s12','baseline' ] )\n",
        "\n",
        "print('============ summary ==============')\n",
        "ref.PrintBase()\n",
        "FMT = (None,'.9f',None,'.9f',None,'.6f', None,'.3f', '.3f' )\n",
        "print( tab.to_markdown( floatfmt=FMT  ) )\n",
        "#import pdb; pdb.set_trace()"
      ]
    }
  ]
}